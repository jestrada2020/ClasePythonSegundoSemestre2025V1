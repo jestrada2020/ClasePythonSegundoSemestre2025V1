{
 "cells": [
  {
   "cell_type": "markdown",
   "metadata": {},
   "source": [
    "# Ejercicio 1: Análisis de Datos Interactivo con Pandas\n",
    "\n",
    "## Objetivos\n",
    "- Complementar los conceptos básicos de Python con análisis de datos práctico\n",
    "- Aplicar funciones, estructuras de datos y manejo de archivos en contexto real\n",
    "- Introducir visualización de datos de manera progresiva\n",
    "\n",
    "## Contexto\n",
    "Este ejercicio extiende los conceptos del repositorio base aplicándolos a un caso práctico de análisis de datos de ventas."
   ]
  },
  {
   "cell_type": "markdown",
   "metadata": {},
   "source": [
    "## Parte 1: Configuración y Datos de Ejemplo"
   ]
  },
  {
   "cell_type": "code",
   "execution_count": null,
   "metadata": {},
   "outputs": [],
   "source": [
    "import pandas as pd\n",
    "import matplotlib.pyplot as plt\n",
    "import seaborn as sns\n",
    "from datetime import datetime, timedelta\n",
    "import numpy as np\n",
    "\n",
    "# Crear datos de ejemplo (simulando ventas de productos)\n",
    "np.random.seed(42)\n",
    "\n",
    "productos = ['Laptop', 'Mouse', 'Teclado', 'Monitor', 'Auriculares']\n",
    "categorias = ['Electrónica', 'Accesorios', 'Accesorios', 'Electrónica', 'Audio']\n",
    "fechas = [datetime(2024, 1, 1) + timedelta(days=i) for i in range(365)]\n",
    "\n",
    "# Generar datos de ventas\n",
    "datos_ventas = []\n",
    "for _ in range(1000):\n",
    "    producto = np.random.choice(productos)\n",
    "    categoria = categorias[productos.index(producto)]\n",
    "    fecha = np.random.choice(fechas)\n",
    "    precio_base = {'Laptop': 800, 'Mouse': 25, 'Teclado': 50, 'Monitor': 300, 'Auriculares': 80}\n",
    "    precio = precio_base[producto] * np.random.uniform(0.8, 1.2)\n",
    "    cantidad = np.random.randint(1, 6)\n",
    "    \n",
    "    datos_ventas.append({\n",
    "        'producto': producto,\n",
    "        'categoria': categoria,\n",
    "        'fecha': fecha,\n",
    "        'precio_unitario': round(precio, 2),\n",
    "        'cantidad': cantidad,\n",
    "        'total': round(precio * cantidad, 2)\n",
    "    })\n",
    "\n",
    "df_ventas = pd.DataFrame(datos_ventas)\n",
    "print(\"Datos de ejemplo creados:\")\n",
    "print(df_ventas.head())\n",
    "print(f\"\\nTotal de registros: {len(df_ventas)}\")"
   ]
  },
  {
   "cell_type": "markdown",
   "metadata": {},
   "source": [
    "## Parte 2: Análisis Básico (Aplicando conceptos del repositorio)"
   ]
  },
  {
   "cell_type": "code",
   "execution_count": null,
   "metadata": {},
   "outputs": [],
   "source": [
    "# Ejercicio 2.1: Usar funciones (concepto del repositorio)\n",
    "def analizar_ventas_producto(df, producto):\n",
    "    \"\"\"\n",
    "    Función que analiza las ventas de un producto específico\n",
    "    Aplica conceptos de funciones y parámetros del repositorio\n",
    "    \"\"\"\n",
    "    ventas_producto = df[df['producto'] == producto]\n",
    "    \n",
    "    resumen = {\n",
    "        'producto': producto,\n",
    "        'total_ventas': ventas_producto['total'].sum(),\n",
    "        'cantidad_vendida': ventas_producto['cantidad'].sum(),\n",
    "        'precio_promedio': ventas_producto['precio_unitario'].mean(),\n",
    "        'ventas_por_mes': ventas_producto.groupby(ventas_producto['fecha'].dt.month)['total'].sum().to_dict()\n",
    "    }\n",
    "    \n",
    "    return resumen\n",
    "\n",
    "# Aplicar la función a cada producto\n",
    "productos_unicos = df_ventas['producto'].unique()\n",
    "for producto in productos_unicos:\n",
    "    analisis = analizar_ventas_producto(df_ventas, producto)\n",
    "    print(f\"\\n--- Análisis de {producto} ---\")\n",
    "    print(f\"Total de ventas: ${analisis['total_ventas']:.2f}\")\n",
    "    print(f\"Cantidad vendida: {analisis['cantidad_vendida']} unidades\")\n",
    "    print(f\"Precio promedio: ${analisis['precio_promedio']:.2f}\")"
   ]
  },
  {
   "cell_type": "markdown",
   "metadata": {},
   "source": [
    "## Parte 3: Uso de Expresiones Lambda y Funciones de Orden Superior"
   ]
  },
  {
   "cell_type": "code",
   "execution_count": null,
   "metadata": {},
   "outputs": [],
   "source": [
    "# Ejercicio 3.1: Aplicar lambdas (concepto del repositorio)\n",
    "# Crear categorías de precio usando lambda\n",
    "df_ventas['categoria_precio'] = df_ventas['precio_unitario'].apply(\n",
    "    lambda x: 'Económico' if x < 50 else 'Medio' if x < 200 else 'Premium'\n",
    ")\n",
    "\n",
    "# Usar filter y map con lambdas\n",
    "ventas_premium = list(filter(lambda x: x['categoria_precio'] == 'Premium', \n",
    "                            df_ventas.to_dict('records')))\n",
    "\n",
    "# Mapear para obtener solo los totales de ventas premium\n",
    "totales_premium = list(map(lambda x: x['total'], ventas_premium))\n",
    "\n",
    "print(f\"Ventas premium encontradas: {len(ventas_premium)}\")\n",
    "print(f\"Promedio de ventas premium: ${np.mean(totales_premium):.2f}\")\n",
    "\n",
    "# Análisis por categoría de precio\n",
    "resumen_categorias = df_ventas.groupby('categoria_precio').agg({\n",
    "    'total': ['sum', 'mean', 'count'],\n",
    "    'cantidad': 'sum'\n",
    "})\n",
    "\n",
    "print(\"\\nResumen por categoría de precio:\")\n",
    "print(resumen_categorias)"
   ]
  },
  {
   "cell_type": "markdown",
   "metadata": {},
   "source": [
    "## Parte 4: Visualización de Datos"
   ]
  },
  {
   "cell_type": "code",
   "execution_count": null,
   "metadata": {},
   "outputs": [],
   "source": [
    "# Ejercicio 4.1: Crear visualizaciones interactivas\n",
    "plt.figure(figsize=(15, 10))\n",
    "\n",
    "# Gráfico 1: Ventas por producto\n",
    "plt.subplot(2, 2, 1)\n",
    "ventas_por_producto = df_ventas.groupby('producto')['total'].sum().sort_values(ascending=False)\n",
    "plt.bar(ventas_por_producto.index, ventas_por_producto.values, color='skyblue')\n",
    "plt.title('Ventas Totales por Producto')\n",
    "plt.xlabel('Producto')\n",
    "plt.ylabel('Ventas ($)')\n",
    "plt.xticks(rotation=45)\n",
    "\n",
    "# Gráfico 2: Distribución de categorías de precio\n",
    "plt.subplot(2, 2, 2)\n",
    "categoria_counts = df_ventas['categoria_precio'].value_counts()\n",
    "plt.pie(categoria_counts.values, labels=categoria_counts.index, autopct='%1.1f%%')\n",
    "plt.title('Distribución de Categorías de Precio')\n",
    "\n",
    "# Gráfico 3: Ventas por mes\n",
    "plt.subplot(2, 2, 3)\n",
    "df_ventas['mes'] = df_ventas['fecha'].dt.month\n",
    "ventas_por_mes = df_ventas.groupby('mes')['total'].sum()\n",
    "plt.plot(ventas_por_mes.index, ventas_por_mes.values, marker='o', color='green')\n",
    "plt.title('Tendencia de Ventas por Mes')\n",
    "plt.xlabel('Mes')\n",
    "plt.ylabel('Ventas ($)')\n",
    "plt.grid(True)\n",
    "\n",
    "# Gráfico 4: Correlación precio-cantidad\n",
    "plt.subplot(2, 2, 4)\n",
    "plt.scatter(df_ventas['precio_unitario'], df_ventas['cantidad'], alpha=0.5)\n",
    "plt.title('Relación Precio vs Cantidad')\n",
    "plt.xlabel('Precio Unitario ($)')\n",
    "plt.ylabel('Cantidad')\n",
    "\n",
    "plt.tight_layout()\n",
    "plt.show()\n",
    "\n",
    "# Estadísticas adicionales\n",
    "print(\"\\n=== ESTADÍSTICAS FINALES ===\")\n",
    "print(f\"Total de ventas: ${df_ventas['total'].sum():.2f}\")\n",
    "print(f\"Promedio de venta: ${df_ventas['total'].mean():.2f}\")\n",
    "print(f\"Producto más vendido: {df_ventas.groupby('producto')['cantidad'].sum().idxmax()}\")\n",
    "print(f\"Mes con mayores ventas: {ventas_por_mes.idxmax()}\")"
   ]
  },
  {
   "cell_type": "markdown",
   "metadata": {},
   "source": [
    "## Parte 5: Ejercicios Prácticos\n",
    "\n",
    "### Ejercicio 5.1: Análisis Personalizado\n",
    "Crea una función que:\n",
    "1. Reciba un DataFrame y un rango de fechas\n",
    "2. Filtre las ventas en ese período\n",
    "3. Retorne un diccionario con estadísticas del período\n",
    "\n",
    "### Ejercicio 5.2: Funciones Lambda Avanzadas\n",
    "Usa expresiones lambda para:\n",
    "1. Crear una nueva columna 'rentabilidad' (asumiendo 40% de margen)\n",
    "2. Clasificar ventas como 'Alta', 'Media' o 'Baja' según el total\n",
    "3. Filtrar registros con condiciones múltiples\n",
    "\n",
    "### Ejercicio 5.3: Integración con Archivos\n",
    "1. Exporta los resultados a un archivo CSV\n",
    "2. Crea un reporte en formato JSON\n",
    "3. Implementa una función que lea archivos de ventas externos"
   ]
  },
  {
   "cell_type": "code",
   "execution_count": null,
   "metadata": {},
   "outputs": [],
   "source": [
    "# Espacio para soluciones de los ejercicios\n",
    "# Los estudiantes pueden implementar aquí sus respuestas\n",
    "\n",
    "# Ejercicio 5.1: Análisis Personalizado\n",
    "def analisis_periodo(df, fecha_inicio, fecha_fin):\n",
    "    # TODO: Implementar análisis por período\n",
    "    pass\n",
    "\n",
    "# Ejercicio 5.2: Funciones Lambda Avanzadas\n",
    "# TODO: Implementar clasificaciones con lambda\n",
    "\n",
    "# Ejercicio 5.3: Integración con Archivos\n",
    "def exportar_reporte(df, formato='csv'):\n",
    "    # TODO: Implementar exportación\n",
    "    pass\n",
    "\n",
    "print(\"¡Completa los ejercicios anteriores!\")"
   ]
  }
 ],
 "metadata": {
  "kernelspec": {
   "display_name": "Python 3",
   "language": "python",
   "name": "python3"
  },
  "language_info": {
   "codemirror_mode": {
    "name": "ipython",
    "version": 3
   },
   "file_extension": ".py",
   "mimetype": "text/x-python",
   "name": "python",
   "nbconvert_exporter": "python",
   "pygments_lexer": "ipython3",
   "version": "3.8.5"
  }
 },
 "nbformat": 4,
 "nbformat_minor": 4
}